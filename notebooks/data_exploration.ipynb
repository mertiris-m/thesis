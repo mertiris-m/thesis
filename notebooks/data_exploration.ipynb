{
 "cells": [
  {
   "cell_type": "markdown",
   "id": "3a11dfd5",
   "metadata": {},
   "source": [
    "### Download the QM9 dataset"
   ]
  },
  {
   "cell_type": "code",
   "execution_count": 1,
   "id": "badbafe2",
   "metadata": {},
   "outputs": [
    {
     "name": "stdout",
     "output_type": "stream",
     "text": [
      "\n",
      "Downloading QM9 dataset...\n",
      "QM9 Dataset already exists at:\n",
      "/home/pc/Python_Projects/thesis/data/QM9/dsgdb9nsd.xyz\n",
      "✅ QM9 verification complete - 86.1 MB\n"
     ]
    }
   ],
   "source": [
    "import sys\n",
    "from pathlib import Path\n",
    "\n",
    "# Add project root to Python path (from notebooks/ to thesis/)\n",
    "project_root = Path.cwd().parent if Path.cwd().name == \"notebooks\" else Path.cwd()\n",
    "sys.path.append(str(project_root))\n",
    "\n",
    "\n",
    "# Import and run with verification\n",
    "from src.data.download import download_qm9\n",
    "\n",
    "# Force redownload if needed\n",
    "QM9_FORCE_REDOWNLOAD = False  # Set to True to force redownload\n",
    "qm9_path = project_root / \"data\" / \"QM9\" / \"dsgdb9nsd.xyz\"\n",
    "\n",
    "if QM9_FORCE_REDOWNLOAD:\n",
    "    print(\"\\n\" + \"=\"*50)\n",
    "    print(\"QM9 FORCE REDOWNLOAD INITIATED\")\n",
    "    print(\"=\"*50)\n",
    "    if qm9_path.exists():\n",
    "        qm9_path.unlink()\n",
    "        print(\"Removed existing QM9 file\")\n",
    "    else:\n",
    "        print(\"No existing QM9 file found\")\n",
    "\n",
    "print(\"\\nDownloading QM9 dataset...\")\n",
    "qm9_success = download_qm9()\n",
    "if qm9_success:\n",
    "    print(f\"✅ QM9 verification complete - {qm9_path.stat().st_size/1e6:.1f} MB\")\n",
    "else:\n",
    "    print(\"❌ QM9 download failed - check error messages\")\n",
    "\n",
    "\n"
   ]
  },
  {
   "cell_type": "markdown",
   "id": "91ff05e4",
   "metadata": {},
   "source": [
    "### Download the ThermoML dataset"
   ]
  },
  {
   "cell_type": "code",
   "execution_count": null,
   "id": "6325f811",
   "metadata": {},
   "outputs": [
    {
     "name": "stdout",
     "output_type": "stream",
     "text": [
      "\n",
      "2. Processing ThermoML dataset...\n",
      "Downloading ThermoML schema...\n"
     ]
    }
   ],
   "source": [
    "import sys\n",
    "from pathlib import Path\n",
    "\n",
    "# Add project root to Python path (from notebooks/ to thesis/)\n",
    "project_root = Path.cwd().parent if Path.cwd().name == \"notebooks\" else Path.cwd()\n",
    "sys.path.append(str(project_root))\n",
    "\n",
    "\n",
    "from src.data.download import download_thermoML\n",
    "\n",
    "# Force redownload if needed\n",
    "THERMO_ML_FORCE_REDOWNLOAD = False # Set to True to force redownload\n",
    "thermo_dir = project_root / \"data\" / \"ThermoML\"\n",
    "xml_files = list(thermo_dir.glob(\"*.xml\")) if thermo_dir.exists() else []\n",
    "\n",
    "# Only download if forced OR no XML files exist\n",
    "if not xml_files or THERMO_ML_FORCE_REDOWNLOAD:\n",
    "    if THERMO_ML_FORCE_REDOWNLOAD and thermo_dir.exists():\n",
    "        import shutil\n",
    "        shutil.rmtree(thermo_dir)\n",
    "        print(\"\\nRemoved existing ThermoML directory\")\n",
    "    \n",
    "    print(\"\\n2. Processing ThermoML dataset...\")\n",
    "    thermo_success = download_thermoML()\n",
    "    xml_files = list(thermo_dir.glob(\"*.xml\")) if thermo_dir.exists() else []\n",
    "else:\n",
    "    thermo_success = True\n",
    "\n",
    "print(f\"ThermoML Status: {'✅ SUCCESS' if thermo_success else '❌ FAILED'}\")\n",
    "print(f\"XML files found: {len(xml_files)}\")\n",
    "\n",
    "# Final verification\n",
    "print(\"\\n\" + \"=\"*50)\n",
    "print(\"FINAL VERIFICATION\")\n",
    "print(\"=\"*50)\n",
    "print(f\"QM9: {'Exists' if qm9_path.exists() else 'Missing'} ({qm9_path.stat().st_size/1e6:.1f} MB)\")\n",
    "print(f\"ThermoML: {len(xml_files)} XML files found\")"
   ]
  },
  {
   "cell_type": "markdown",
   "id": "b89740c1",
   "metadata": {},
   "source": [
    "### Download the ESOL dataset"
   ]
  },
  {
   "cell_type": "code",
   "execution_count": 1,
   "id": "fa084605",
   "metadata": {},
   "outputs": [
    {
     "name": "stdout",
     "output_type": "stream",
     "text": [
      "\n",
      "Downloading ESOL dataset...\n",
      "Dataset already exists at:\n",
      "/home/pc/Python_Projects/thesis/data/ESOL/delaney-processed.csv\n",
      "✅ ESOL verification complete - 0.1 MB\n",
      "File location: /home/pc/Python_Projects/thesis/data/ESOL/delaney-processed.csv\n"
     ]
    }
   ],
   "source": [
    "import sys\n",
    "from pathlib import Path\n",
    "\n",
    "project_root = Path.cwd().parent if Path.cwd().name == \"notebooks\" else Path.cwd()\n",
    "sys.path.append(str(project_root))\n",
    "\n",
    "\n",
    "from src.data.download import download_esol\n",
    "\n",
    "\n",
    "# Force redownload if needed\n",
    "ESOL_FORCE_REDOWNLOAD = False  # Set to True to force redownload\n",
    "esol_path = project_root / \"data\" / \"ESOL\" / \"delaney-processed.csv\"\n",
    "\n",
    "if ESOL_FORCE_REDOWNLOAD:\n",
    "    print(\"\\n\" + \"=\"*50)\n",
    "    print(\"ESOL FORCE REDOWNLOAD INITIATED\")\n",
    "    print(\"=\"*50)\n",
    "    if esol_path.exists():\n",
    "        esol_path.unlink()\n",
    "        print(\"Removed existing ESOL file\")\n",
    "    else:\n",
    "        print(\"No existing ESOL file found\")\n",
    "\n",
    "print(\"\\nDownloading ESOL dataset...\")\n",
    "esol_success = download_esol()\n",
    "if esol_success:\n",
    "    print(f\"✅ ESOL verification complete - {esol_path.stat().st_size/1e6:.1f} MB\")\n",
    "    print(f\"File location: {esol_path.resolve()}\")\n",
    "else:\n",
    "    print(\"❌ ESOL download failed - check error messages\")"
   ]
  }
 ],
 "metadata": {
  "kernelspec": {
   "display_name": "base",
   "language": "python",
   "name": "python3"
  },
  "language_info": {
   "codemirror_mode": {
    "name": "ipython",
    "version": 3
   },
   "file_extension": ".py",
   "mimetype": "text/x-python",
   "name": "python",
   "nbconvert_exporter": "python",
   "pygments_lexer": "ipython3",
   "version": "3.12.7"
  }
 },
 "nbformat": 4,
 "nbformat_minor": 5
}
