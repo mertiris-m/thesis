{
 "cells": [
  {
   "cell_type": "code",
   "execution_count": 1,
   "id": "8e1a886e",
   "metadata": {},
   "outputs": [],
   "source": [
    "import os\n",
    "import matplotlib.pyplot as plt\n",
    "import sys\n",
    "from pathlib import Path\n",
    "\n",
    "root = Path.cwd().parent if Path.cwd().name == \"notebooks\" else Path.cwd()\n",
    "qm9_path = root / 'data' / 'QM9' / 'dsgdb9nsd.xyz'\n",
    "qm9_edit_dir = root / 'data' / 'QM9_edit'\n",
    "qm9_csv_path = qm9_edit_dir / 'QM9_edit.csv'\n",
    "\n",
    "os.chdir(root)\n",
    "\n",
    "from src.data.preprocess import process_qm9_directory, load_data, outlier_detection"
   ]
  },
  {
   "cell_type": "markdown",
   "id": "4f078fa7",
   "metadata": {},
   "source": [
    "## QM9\n",
    "\n",
    "### Create .csv"
   ]
  },
  {
   "cell_type": "code",
   "execution_count": 2,
   "id": "e81ee90b",
   "metadata": {},
   "outputs": [
    {
     "name": "stdout",
     "output_type": "stream",
     "text": [
      "Processed 133885 valid files, skipped 0 invalid files\n"
     ]
    }
   ],
   "source": [
    "process_qm9_directory(input_dir=qm9_path, output_csv=qm9_csv_path)"
   ]
  },
  {
   "cell_type": "markdown",
   "id": "d0b12047",
   "metadata": {},
   "source": [
    "### Data Exploration"
   ]
  },
  {
   "cell_type": "code",
   "execution_count": 3,
   "id": "a7e523b7",
   "metadata": {},
   "outputs": [
    {
     "name": "stdout",
     "output_type": "stream",
     "text": [
      "Loaded 133885 molecules\n",
      "<class 'pandas.core.frame.DataFrame'>\n",
      "RangeIndex: 133885 entries, 0 to 133884\n",
      "Data columns (total 6 columns):\n",
      " #   Column         Non-Null Count   Dtype  \n",
      "---  ------         --------------   -----  \n",
      " 0   SMILES         133885 non-null  object \n",
      " 1   Dipole_moment  133885 non-null  float64\n",
      " 2   U              133885 non-null  float64\n",
      " 3   H              133885 non-null  float64\n",
      " 4   G              133885 non-null  float64\n",
      " 5   Cv             133885 non-null  float64\n",
      "dtypes: float64(5), object(1)\n",
      "memory usage: 6.1+ MB\n"
     ]
    },
    {
     "data": {
      "text/html": [
       "<div>\n",
       "<style scoped>\n",
       "    .dataframe tbody tr th:only-of-type {\n",
       "        vertical-align: middle;\n",
       "    }\n",
       "\n",
       "    .dataframe tbody tr th {\n",
       "        vertical-align: top;\n",
       "    }\n",
       "\n",
       "    .dataframe thead th {\n",
       "        text-align: right;\n",
       "    }\n",
       "</style>\n",
       "<table border=\"1\" class=\"dataframe\">\n",
       "  <thead>\n",
       "    <tr style=\"text-align: right;\">\n",
       "      <th></th>\n",
       "      <th>SMILES</th>\n",
       "      <th>Dipole_moment</th>\n",
       "      <th>U</th>\n",
       "      <th>H</th>\n",
       "      <th>G</th>\n",
       "      <th>Cv</th>\n",
       "    </tr>\n",
       "  </thead>\n",
       "  <tbody>\n",
       "    <tr>\n",
       "      <th>0</th>\n",
       "      <td>C</td>\n",
       "      <td>0.0000</td>\n",
       "      <td>-40.476062</td>\n",
       "      <td>-40.475117</td>\n",
       "      <td>-40.498597</td>\n",
       "      <td>6.469</td>\n",
       "    </tr>\n",
       "    <tr>\n",
       "      <th>1</th>\n",
       "      <td>N</td>\n",
       "      <td>1.6256</td>\n",
       "      <td>-56.523026</td>\n",
       "      <td>-56.522082</td>\n",
       "      <td>-56.544961</td>\n",
       "      <td>6.316</td>\n",
       "    </tr>\n",
       "    <tr>\n",
       "      <th>2</th>\n",
       "      <td>O</td>\n",
       "      <td>1.8511</td>\n",
       "      <td>-76.401867</td>\n",
       "      <td>-76.400922</td>\n",
       "      <td>-76.422349</td>\n",
       "      <td>6.002</td>\n",
       "    </tr>\n",
       "    <tr>\n",
       "      <th>3</th>\n",
       "      <td>C#C</td>\n",
       "      <td>0.0000</td>\n",
       "      <td>-77.305527</td>\n",
       "      <td>-77.304583</td>\n",
       "      <td>-77.327429</td>\n",
       "      <td>8.574</td>\n",
       "    </tr>\n",
       "    <tr>\n",
       "      <th>4</th>\n",
       "      <td>C#N</td>\n",
       "      <td>2.8937</td>\n",
       "      <td>-93.409370</td>\n",
       "      <td>-93.408425</td>\n",
       "      <td>-93.431246</td>\n",
       "      <td>6.278</td>\n",
       "    </tr>\n",
       "  </tbody>\n",
       "</table>\n",
       "</div>"
      ],
      "text/plain": [
       "  SMILES  Dipole_moment          U          H          G     Cv\n",
       "0      C         0.0000 -40.476062 -40.475117 -40.498597  6.469\n",
       "1      N         1.6256 -56.523026 -56.522082 -56.544961  6.316\n",
       "2      O         1.8511 -76.401867 -76.400922 -76.422349  6.002\n",
       "3    C#C         0.0000 -77.305527 -77.304583 -77.327429  8.574\n",
       "4    C#N         2.8937 -93.409370 -93.408425 -93.431246  6.278"
      ]
     },
     "metadata": {},
     "output_type": "display_data"
    },
    {
     "data": {
      "text/html": [
       "<div>\n",
       "<style scoped>\n",
       "    .dataframe tbody tr th:only-of-type {\n",
       "        vertical-align: middle;\n",
       "    }\n",
       "\n",
       "    .dataframe tbody tr th {\n",
       "        vertical-align: top;\n",
       "    }\n",
       "\n",
       "    .dataframe thead th {\n",
       "        text-align: right;\n",
       "    }\n",
       "</style>\n",
       "<table border=\"1\" class=\"dataframe\">\n",
       "  <thead>\n",
       "    <tr style=\"text-align: right;\">\n",
       "      <th></th>\n",
       "      <th>Dipole_moment</th>\n",
       "      <th>U</th>\n",
       "      <th>H</th>\n",
       "      <th>G</th>\n",
       "      <th>Cv</th>\n",
       "    </tr>\n",
       "  </thead>\n",
       "  <tbody>\n",
       "    <tr>\n",
       "      <th>count</th>\n",
       "      <td>133885.000000</td>\n",
       "      <td>133885.000000</td>\n",
       "      <td>133885.000000</td>\n",
       "      <td>133885.000000</td>\n",
       "      <td>133885.000000</td>\n",
       "    </tr>\n",
       "    <tr>\n",
       "      <th>mean</th>\n",
       "      <td>2.706037</td>\n",
       "      <td>-411.535513</td>\n",
       "      <td>-411.534569</td>\n",
       "      <td>-411.577397</td>\n",
       "      <td>31.600676</td>\n",
       "    </tr>\n",
       "    <tr>\n",
       "      <th>std</th>\n",
       "      <td>1.530394</td>\n",
       "      <td>40.060012</td>\n",
       "      <td>40.060012</td>\n",
       "      <td>40.060741</td>\n",
       "      <td>4.062471</td>\n",
       "    </tr>\n",
       "    <tr>\n",
       "      <th>min</th>\n",
       "      <td>0.000000</td>\n",
       "      <td>-714.560153</td>\n",
       "      <td>-714.559209</td>\n",
       "      <td>-714.602138</td>\n",
       "      <td>6.002000</td>\n",
       "    </tr>\n",
       "    <tr>\n",
       "      <th>25%</th>\n",
       "      <td>1.588700</td>\n",
       "      <td>-437.905942</td>\n",
       "      <td>-437.904997</td>\n",
       "      <td>-437.947682</td>\n",
       "      <td>28.942000</td>\n",
       "    </tr>\n",
       "    <tr>\n",
       "      <th>50%</th>\n",
       "      <td>2.500000</td>\n",
       "      <td>-417.857351</td>\n",
       "      <td>-417.856407</td>\n",
       "      <td>-417.895731</td>\n",
       "      <td>31.555000</td>\n",
       "    </tr>\n",
       "    <tr>\n",
       "      <th>75%</th>\n",
       "      <td>3.636100</td>\n",
       "      <td>-387.039746</td>\n",
       "      <td>-387.038802</td>\n",
       "      <td>-387.083279</td>\n",
       "      <td>34.276000</td>\n",
       "    </tr>\n",
       "    <tr>\n",
       "      <th>max</th>\n",
       "      <td>29.556400</td>\n",
       "      <td>-40.476062</td>\n",
       "      <td>-40.475117</td>\n",
       "      <td>-40.498597</td>\n",
       "      <td>46.969000</td>\n",
       "    </tr>\n",
       "  </tbody>\n",
       "</table>\n",
       "</div>"
      ],
      "text/plain": [
       "       Dipole_moment              U              H              G  \\\n",
       "count  133885.000000  133885.000000  133885.000000  133885.000000   \n",
       "mean        2.706037    -411.535513    -411.534569    -411.577397   \n",
       "std         1.530394      40.060012      40.060012      40.060741   \n",
       "min         0.000000    -714.560153    -714.559209    -714.602138   \n",
       "25%         1.588700    -437.905942    -437.904997    -437.947682   \n",
       "50%         2.500000    -417.857351    -417.856407    -417.895731   \n",
       "75%         3.636100    -387.039746    -387.038802    -387.083279   \n",
       "max        29.556400     -40.476062     -40.475117     -40.498597   \n",
       "\n",
       "                  Cv  \n",
       "count  133885.000000  \n",
       "mean       31.600676  \n",
       "std         4.062471  \n",
       "min         6.002000  \n",
       "25%        28.942000  \n",
       "50%        31.555000  \n",
       "75%        34.276000  \n",
       "max        46.969000  "
      ]
     },
     "metadata": {},
     "output_type": "display_data"
    },
    {
     "name": "stdout",
     "output_type": "stream",
     "text": [
      "QM9 missing values: 0\n",
      "QM9 duplicate values: 0\n"
     ]
    }
   ],
   "source": [
    "qm9_df = load_data(qm9_csv_path)\n",
    "\n",
    "qm9_df.info()\n",
    "display(qm9_df.head())\n",
    "display(qm9_df.describe())\n",
    "\n",
    "# Check for missing values\n",
    "print(\"QM9 missing values: \" + str(qm9_df.isnull().sum().sum()))\n",
    "\n",
    "# Check for duplicate values\n",
    "duplicates = qm9_df.duplicated().sum()\n",
    "print(\"QM9 duplicate values: \" + str(duplicates))"
   ]
  },
  {
   "cell_type": "code",
   "execution_count": 4,
   "id": "2e91d481",
   "metadata": {},
   "outputs": [
    {
     "data": {
      "image/png": "[encoded data removed]",
      "text/plain": [
       "<Figure size 2000x2000 with 15 Axes>"
      ]
     },
     "metadata": {},
     "output_type": "display_data"
    }
   ],
   "source": [
    "qm9_df.hist(bins=120, figsize=(20, 20), layout=(5, 3))\n",
    "\n",
    "plt.show()"
   ]
  },
  {
   "cell_type": "code",
   "execution_count": 5,
   "id": "922681a4",
   "metadata": {},
   "outputs": [
    {
     "name": "stdout",
     "output_type": "stream",
     "text": [
      "Column Dipole_moment has 1413 outliers. Lower cuttof: -1.482. Upper cutoff: 6.707\n",
      "Column U has 2495 outliers. Lower cuttof: -514.205. Upper cutoff: -310.740\n",
      "Column H has 2495 outliers. Lower cuttof: -514.204. Upper cutoff: -310.740\n",
      "Column G has 2496 outliers. Lower cuttof: -514.244. Upper cutoff: -310.787\n",
      "Column Cv has 1461 outliers. Lower cuttof: 20.941. Upper cutoff: 42.277\n"
     ]
    },
    {
     "data": {
      "text/plain": [
       "(                     SMILES  Dipole_moment           U           H  \\\n",
       " 178               CC(CO)=NO         1.9975 -323.578268 -323.577324   \n",
       " 239              CC(=N)OC=O         4.0954 -322.454075 -322.453130   \n",
       " 242              CC(=O)NC=O         5.6602 -322.473128 -322.472183   \n",
       " 243              CC(=O)OC=N         0.9137 -322.458133 -322.457189   \n",
       " 244              NC(=N)NC=O         2.4787 -318.641827 -318.640883   \n",
       " ...                     ...            ...         ...         ...   \n",
       " 133880  C1C2C3C4C5OC14C5N23         1.6637 -400.628599 -400.627654   \n",
       " 133881  C1N2C3C2C2C4OC12C34         1.2976 -400.624444 -400.623500   \n",
       " 133882  C1N2C3C4C5C2C13CN45         1.2480 -380.748619 -380.747675   \n",
       " 133883  C1N2C3C4C5CC13C2C45         1.9576 -364.714974 -364.714030   \n",
       " 133884  C1N2C3C4C5OC13C2C45         0.8626 -400.627892 -400.626948   \n",
       " \n",
       "                  G      Cv  \n",
       " 178    -323.617025  25.106  \n",
       " 239    -322.491611  21.350  \n",
       " 242    -322.510598  21.535  \n",
       " 243    -322.495484  21.339  \n",
       " 244    -318.677490  21.711  \n",
       " ...            ...     ...  \n",
       " 133880 -400.663098  23.658  \n",
       " 133881 -400.658942  23.697  \n",
       " 133882 -380.783148  23.972  \n",
       " 133883 -364.749650  24.796  \n",
       " 133884 -400.662186  23.434  \n",
       " \n",
       " [128907 rows x 6 columns],\n",
       "                    SMILES  Dipole_moment           U           H           G  \\\n",
       " 0                       C         0.0000  -40.476062  -40.475117  -40.498597   \n",
       " 1                       N         1.6256  -56.523026  -56.522082  -56.544961   \n",
       " 2                       O         1.8511  -76.401867  -76.400922  -76.422349   \n",
       " 3                     C#C         0.0000  -77.305527  -77.304583  -77.327429   \n",
       " 4                     C#N         2.8937  -93.409370  -93.408425  -93.431246   \n",
       " ...                   ...            ...         ...         ...         ...   \n",
       " 133807      CCCNCC(F)(F)F         2.7185 -550.704388 -550.703444 -550.750982   \n",
       " 133808      CCCOCC(F)(F)F         2.8304 -570.581471 -570.580526 -570.628468   \n",
       " 133809      CCOCCC(F)(F)F         2.0578 -570.587184 -570.586239 -570.633876   \n",
       " 133810      COCCCC(F)(F)F         2.7798 -570.582549 -570.581605 -570.629150   \n",
       " 133811  C1C2C3C4=CCC13C24         1.4299 -309.310015 -309.309071 -309.344989   \n",
       " \n",
       "             Cv  \n",
       " 0        6.469  \n",
       " 1        6.316  \n",
       " 2        6.002  \n",
       " 3        8.574  \n",
       " 4        6.278  \n",
       " ...        ...  \n",
       " 133807  35.199  \n",
       " 133808  34.259  \n",
       " 133809  34.283  \n",
       " 133810  34.103  \n",
       " 133811  24.754  \n",
       " \n",
       " [4978 rows x 6 columns])"
      ]
     },
     "execution_count": 5,
     "metadata": {},
     "output_type": "execute_result"
    }
   ],
   "source": [
    "outlier_detection(qm9_df, rate=1.5)"
   ]
  }
 ],
 "metadata": {
  "kernelspec": {
   "display_name": "base",
   "language": "python",
   "name": "python3"
  },
  "language_info": {
   "codemirror_mode": {
    "name": "ipython",
    "version": 3
   },
   "file_extension": ".py",
   "mimetype": "text/x-python",
   "name": "python",
   "nbconvert_exporter": "python",
   "pygments_lexer": "ipython3",
   "version": "3.12.7"
  }
 },
 "nbformat": 4,
 "nbformat_minor": 5
}
